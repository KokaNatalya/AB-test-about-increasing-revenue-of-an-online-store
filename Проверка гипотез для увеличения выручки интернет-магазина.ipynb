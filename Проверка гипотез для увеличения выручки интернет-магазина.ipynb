{
 "cells": [
  {
   "cell_type": "markdown",
   "metadata": {},
   "source": [
    "# Проверка гипотез для увеличения выручки интернет-магазина"
   ]
  },
  {
   "cell_type": "markdown",
   "metadata": {},
   "source": [
    "**Цель** - определить какие из гипотез приводят к росту выручки.\n",
    "\n",
    "**План:**\n",
    "1. изучить и приоритизировать гипотезы с помощью ICE и RICE фреймворков;\n",
    "2. провести А/В тест;\n",
    "3. проаналиировать результаты А/В теста:\n",
    "    - построить графики: \n",
    "        - кумулятивной выручки по группам;\n",
    "        - кумулятивного среднего чека по группам;\n",
    "        - относительного изменения кумулятивного среднего чека группы B к группе A;\n",
    "        - кумулятивной конверсии по группам;\n",
    "        - относительного изменения кумулятивной конверсии группы B к группе A;\n",
    "        - количества заказов по пользователям;\n",
    "        - стоимостей заказов.\n",
    "    - посчитать статистическую значимость различий в:\n",
    "        - конверсии между группами по «сырым» данным;\n",
    "        - среднем чеке заказа между группами по «сырым» данным;\n",
    "        - конверсии между группами по «очищенным» данным;\n",
    "        - среднем чеке заказа между группами по «очищенным» данным.\n",
    "4. Принять решение по результатам теста.\n",
    "\n",
    "**Данные:** даны 3 датасета: 1 с гипотезами и параметрами Reach, Impact, Confidence, Effort. 2 и 3 с результатами А/В теста."
   ]
  },
  {
   "cell_type": "code",
   "execution_count": 1,
   "metadata": {
    "scrolled": true
   },
   "outputs": [],
   "source": [
    "import pandas as pd\n",
    "from matplotlib import pyplot as plt\n",
    "import seaborn as sns\n",
    "import datetime as dt\n",
    "from scipy import stats as st\n",
    "import numpy as np\n",
    "import warnings\n",
    "warnings.filterwarnings(\"ignore\")"
   ]
  },
  {
   "cell_type": "markdown",
   "metadata": {},
   "source": [
    "## Приоритизация гипотез"
   ]
  },
  {
   "cell_type": "code",
   "execution_count": 2,
   "metadata": {
    "scrolled": true
   },
   "outputs": [
    {
     "data": {
      "text/html": [
       "<div>\n",
       "<style scoped>\n",
       "    .dataframe tbody tr th:only-of-type {\n",
       "        vertical-align: middle;\n",
       "    }\n",
       "\n",
       "    .dataframe tbody tr th {\n",
       "        vertical-align: top;\n",
       "    }\n",
       "\n",
       "    .dataframe thead th {\n",
       "        text-align: right;\n",
       "    }\n",
       "</style>\n",
       "<table border=\"1\" class=\"dataframe\">\n",
       "  <thead>\n",
       "    <tr style=\"text-align: right;\">\n",
       "      <th></th>\n",
       "      <th>Hypothesis</th>\n",
       "      <th>Reach</th>\n",
       "      <th>Impact</th>\n",
       "      <th>Confidence</th>\n",
       "      <th>Efforts</th>\n",
       "    </tr>\n",
       "  </thead>\n",
       "  <tbody>\n",
       "    <tr>\n",
       "      <td>0</td>\n",
       "      <td>Добавить два новых канала привлечения трафика,...</td>\n",
       "      <td>3</td>\n",
       "      <td>10</td>\n",
       "      <td>8</td>\n",
       "      <td>6</td>\n",
       "    </tr>\n",
       "    <tr>\n",
       "      <td>1</td>\n",
       "      <td>Запустить собственную службу доставки, что сок...</td>\n",
       "      <td>2</td>\n",
       "      <td>5</td>\n",
       "      <td>4</td>\n",
       "      <td>10</td>\n",
       "    </tr>\n",
       "    <tr>\n",
       "      <td>2</td>\n",
       "      <td>Добавить блоки рекомендаций товаров на сайт ин...</td>\n",
       "      <td>8</td>\n",
       "      <td>3</td>\n",
       "      <td>7</td>\n",
       "      <td>3</td>\n",
       "    </tr>\n",
       "    <tr>\n",
       "      <td>3</td>\n",
       "      <td>Изменить структура категорий, что увеличит кон...</td>\n",
       "      <td>8</td>\n",
       "      <td>3</td>\n",
       "      <td>3</td>\n",
       "      <td>8</td>\n",
       "    </tr>\n",
       "    <tr>\n",
       "      <td>4</td>\n",
       "      <td>Изменить цвет фона главной страницы, чтобы уве...</td>\n",
       "      <td>3</td>\n",
       "      <td>1</td>\n",
       "      <td>1</td>\n",
       "      <td>1</td>\n",
       "    </tr>\n",
       "    <tr>\n",
       "      <td>5</td>\n",
       "      <td>Добавить страницу отзывов клиентов о магазине,...</td>\n",
       "      <td>3</td>\n",
       "      <td>2</td>\n",
       "      <td>2</td>\n",
       "      <td>3</td>\n",
       "    </tr>\n",
       "    <tr>\n",
       "      <td>6</td>\n",
       "      <td>Показать на главной странице баннеры с актуаль...</td>\n",
       "      <td>5</td>\n",
       "      <td>3</td>\n",
       "      <td>8</td>\n",
       "      <td>3</td>\n",
       "    </tr>\n",
       "    <tr>\n",
       "      <td>7</td>\n",
       "      <td>Добавить форму подписки на все основные страни...</td>\n",
       "      <td>10</td>\n",
       "      <td>7</td>\n",
       "      <td>8</td>\n",
       "      <td>5</td>\n",
       "    </tr>\n",
       "    <tr>\n",
       "      <td>8</td>\n",
       "      <td>Запустить акцию, дающую скидку на товар в день...</td>\n",
       "      <td>1</td>\n",
       "      <td>9</td>\n",
       "      <td>9</td>\n",
       "      <td>5</td>\n",
       "    </tr>\n",
       "  </tbody>\n",
       "</table>\n",
       "</div>"
      ],
      "text/plain": [
       "                                          Hypothesis  Reach  Impact  \\\n",
       "0  Добавить два новых канала привлечения трафика,...      3      10   \n",
       "1  Запустить собственную службу доставки, что сок...      2       5   \n",
       "2  Добавить блоки рекомендаций товаров на сайт ин...      8       3   \n",
       "3  Изменить структура категорий, что увеличит кон...      8       3   \n",
       "4  Изменить цвет фона главной страницы, чтобы уве...      3       1   \n",
       "5  Добавить страницу отзывов клиентов о магазине,...      3       2   \n",
       "6  Показать на главной странице баннеры с актуаль...      5       3   \n",
       "7  Добавить форму подписки на все основные страни...     10       7   \n",
       "8  Запустить акцию, дающую скидку на товар в день...      1       9   \n",
       "\n",
       "   Confidence  Efforts  \n",
       "0           8        6  \n",
       "1           4       10  \n",
       "2           7        3  \n",
       "3           3        8  \n",
       "4           1        1  \n",
       "5           2        3  \n",
       "6           8        3  \n",
       "7           8        5  \n",
       "8           9        5  "
      ]
     },
     "metadata": {},
     "output_type": "display_data"
    }
   ],
   "source": [
    "hypothesis=pd.read_csv('https://code.s3.yandex.net/datasets/hypothesis.csv')\n",
    "display(hypothesis)"
   ]
  },
  {
   "cell_type": "markdown",
   "metadata": {},
   "source": [
    "### ICE"
   ]
  },
  {
   "cell_type": "markdown",
   "metadata": {},
   "source": [
    "$$ICE = \\frac{Impact * Confidence}{Efforts}$$"
   ]
  },
  {
   "cell_type": "code",
   "execution_count": 3,
   "metadata": {
    "scrolled": false
   },
   "outputs": [
    {
     "data": {
      "text/html": [
       "<style  type=\"text/css\" >\n",
       "    #T_1ce9c9a8_a987_11eb_a04e_02420a39adb5row0_col0 {\n",
       "            text-align:  left;\n",
       "        }    #T_1ce9c9a8_a987_11eb_a04e_02420a39adb5row0_col5 {\n",
       "            background-color:  #08306b;\n",
       "            color:  #f1f1f1;\n",
       "        }    #T_1ce9c9a8_a987_11eb_a04e_02420a39adb5row1_col0 {\n",
       "            text-align:  left;\n",
       "        }    #T_1ce9c9a8_a987_11eb_a04e_02420a39adb5row1_col5 {\n",
       "            background-color:  #1561a9;\n",
       "            color:  #f1f1f1;\n",
       "        }    #T_1ce9c9a8_a987_11eb_a04e_02420a39adb5row2_col0 {\n",
       "            text-align:  left;\n",
       "        }    #T_1ce9c9a8_a987_11eb_a04e_02420a39adb5row2_col5 {\n",
       "            background-color:  #3686c0;\n",
       "            color:  #000000;\n",
       "        }    #T_1ce9c9a8_a987_11eb_a04e_02420a39adb5row3_col0 {\n",
       "            text-align:  left;\n",
       "        }    #T_1ce9c9a8_a987_11eb_a04e_02420a39adb5row3_col5 {\n",
       "            background-color:  #7cb7da;\n",
       "            color:  #000000;\n",
       "        }    #T_1ce9c9a8_a987_11eb_a04e_02420a39adb5row4_col0 {\n",
       "            text-align:  left;\n",
       "        }    #T_1ce9c9a8_a987_11eb_a04e_02420a39adb5row4_col5 {\n",
       "            background-color:  #95c5df;\n",
       "            color:  #000000;\n",
       "        }    #T_1ce9c9a8_a987_11eb_a04e_02420a39adb5row5_col0 {\n",
       "            text-align:  left;\n",
       "        }    #T_1ce9c9a8_a987_11eb_a04e_02420a39adb5row5_col5 {\n",
       "            background-color:  #eaf3fb;\n",
       "            color:  #000000;\n",
       "        }    #T_1ce9c9a8_a987_11eb_a04e_02420a39adb5row6_col0 {\n",
       "            text-align:  left;\n",
       "        }    #T_1ce9c9a8_a987_11eb_a04e_02420a39adb5row6_col5 {\n",
       "            background-color:  #f3f8fe;\n",
       "            color:  #000000;\n",
       "        }    #T_1ce9c9a8_a987_11eb_a04e_02420a39adb5row7_col0 {\n",
       "            text-align:  left;\n",
       "        }    #T_1ce9c9a8_a987_11eb_a04e_02420a39adb5row7_col5 {\n",
       "            background-color:  #f5fafe;\n",
       "            color:  #000000;\n",
       "        }    #T_1ce9c9a8_a987_11eb_a04e_02420a39adb5row8_col0 {\n",
       "            text-align:  left;\n",
       "        }    #T_1ce9c9a8_a987_11eb_a04e_02420a39adb5row8_col5 {\n",
       "            background-color:  #f7fbff;\n",
       "            color:  #000000;\n",
       "        }</style><table id=\"T_1ce9c9a8_a987_11eb_a04e_02420a39adb5\" ><thead>    <tr>        <th class=\"blank level0\" ></th>        <th class=\"col_heading level0 col0\" >Hypothesis</th>        <th class=\"col_heading level0 col1\" >Reach</th>        <th class=\"col_heading level0 col2\" >Impact</th>        <th class=\"col_heading level0 col3\" >Confidence</th>        <th class=\"col_heading level0 col4\" >Efforts</th>        <th class=\"col_heading level0 col5\" >ICE</th>    </tr></thead><tbody>\n",
       "                <tr>\n",
       "                        <th id=\"T_1ce9c9a8_a987_11eb_a04e_02420a39adb5level0_row0\" class=\"row_heading level0 row0\" >8</th>\n",
       "                        <td id=\"T_1ce9c9a8_a987_11eb_a04e_02420a39adb5row0_col0\" class=\"data row0 col0\" >Запустить акцию, дающую скидку на товар в день рождения</td>\n",
       "                        <td id=\"T_1ce9c9a8_a987_11eb_a04e_02420a39adb5row0_col1\" class=\"data row0 col1\" >1</td>\n",
       "                        <td id=\"T_1ce9c9a8_a987_11eb_a04e_02420a39adb5row0_col2\" class=\"data row0 col2\" >9</td>\n",
       "                        <td id=\"T_1ce9c9a8_a987_11eb_a04e_02420a39adb5row0_col3\" class=\"data row0 col3\" >9</td>\n",
       "                        <td id=\"T_1ce9c9a8_a987_11eb_a04e_02420a39adb5row0_col4\" class=\"data row0 col4\" >5</td>\n",
       "                        <td id=\"T_1ce9c9a8_a987_11eb_a04e_02420a39adb5row0_col5\" class=\"data row0 col5\" >16.2</td>\n",
       "            </tr>\n",
       "            <tr>\n",
       "                        <th id=\"T_1ce9c9a8_a987_11eb_a04e_02420a39adb5level0_row1\" class=\"row_heading level0 row1\" >0</th>\n",
       "                        <td id=\"T_1ce9c9a8_a987_11eb_a04e_02420a39adb5row1_col0\" class=\"data row1 col0\" >Добавить два новых канала привлечения трафика, что позволит привлекать на 30% больше пользователей</td>\n",
       "                        <td id=\"T_1ce9c9a8_a987_11eb_a04e_02420a39adb5row1_col1\" class=\"data row1 col1\" >3</td>\n",
       "                        <td id=\"T_1ce9c9a8_a987_11eb_a04e_02420a39adb5row1_col2\" class=\"data row1 col2\" >10</td>\n",
       "                        <td id=\"T_1ce9c9a8_a987_11eb_a04e_02420a39adb5row1_col3\" class=\"data row1 col3\" >8</td>\n",
       "                        <td id=\"T_1ce9c9a8_a987_11eb_a04e_02420a39adb5row1_col4\" class=\"data row1 col4\" >6</td>\n",
       "                        <td id=\"T_1ce9c9a8_a987_11eb_a04e_02420a39adb5row1_col5\" class=\"data row1 col5\" >13.3333</td>\n",
       "            </tr>\n",
       "            <tr>\n",
       "                        <th id=\"T_1ce9c9a8_a987_11eb_a04e_02420a39adb5level0_row2\" class=\"row_heading level0 row2\" >7</th>\n",
       "                        <td id=\"T_1ce9c9a8_a987_11eb_a04e_02420a39adb5row2_col0\" class=\"data row2 col0\" >Добавить форму подписки на все основные страницы, чтобы собрать базу клиентов для email-рассылок</td>\n",
       "                        <td id=\"T_1ce9c9a8_a987_11eb_a04e_02420a39adb5row2_col1\" class=\"data row2 col1\" >10</td>\n",
       "                        <td id=\"T_1ce9c9a8_a987_11eb_a04e_02420a39adb5row2_col2\" class=\"data row2 col2\" >7</td>\n",
       "                        <td id=\"T_1ce9c9a8_a987_11eb_a04e_02420a39adb5row2_col3\" class=\"data row2 col3\" >8</td>\n",
       "                        <td id=\"T_1ce9c9a8_a987_11eb_a04e_02420a39adb5row2_col4\" class=\"data row2 col4\" >5</td>\n",
       "                        <td id=\"T_1ce9c9a8_a987_11eb_a04e_02420a39adb5row2_col5\" class=\"data row2 col5\" >11.2</td>\n",
       "            </tr>\n",
       "            <tr>\n",
       "                        <th id=\"T_1ce9c9a8_a987_11eb_a04e_02420a39adb5level0_row3\" class=\"row_heading level0 row3\" >6</th>\n",
       "                        <td id=\"T_1ce9c9a8_a987_11eb_a04e_02420a39adb5row3_col0\" class=\"data row3 col0\" >Показать на главной странице баннеры с актуальными акциями и распродажами, чтобы увеличить конверсию</td>\n",
       "                        <td id=\"T_1ce9c9a8_a987_11eb_a04e_02420a39adb5row3_col1\" class=\"data row3 col1\" >5</td>\n",
       "                        <td id=\"T_1ce9c9a8_a987_11eb_a04e_02420a39adb5row3_col2\" class=\"data row3 col2\" >3</td>\n",
       "                        <td id=\"T_1ce9c9a8_a987_11eb_a04e_02420a39adb5row3_col3\" class=\"data row3 col3\" >8</td>\n",
       "                        <td id=\"T_1ce9c9a8_a987_11eb_a04e_02420a39adb5row3_col4\" class=\"data row3 col4\" >3</td>\n",
       "                        <td id=\"T_1ce9c9a8_a987_11eb_a04e_02420a39adb5row3_col5\" class=\"data row3 col5\" >8</td>\n",
       "            </tr>\n",
       "            <tr>\n",
       "                        <th id=\"T_1ce9c9a8_a987_11eb_a04e_02420a39adb5level0_row4\" class=\"row_heading level0 row4\" >2</th>\n",
       "                        <td id=\"T_1ce9c9a8_a987_11eb_a04e_02420a39adb5row4_col0\" class=\"data row4 col0\" >Добавить блоки рекомендаций товаров на сайт интернет магазина, чтобы повысить конверсию и средний чек заказа</td>\n",
       "                        <td id=\"T_1ce9c9a8_a987_11eb_a04e_02420a39adb5row4_col1\" class=\"data row4 col1\" >8</td>\n",
       "                        <td id=\"T_1ce9c9a8_a987_11eb_a04e_02420a39adb5row4_col2\" class=\"data row4 col2\" >3</td>\n",
       "                        <td id=\"T_1ce9c9a8_a987_11eb_a04e_02420a39adb5row4_col3\" class=\"data row4 col3\" >7</td>\n",
       "                        <td id=\"T_1ce9c9a8_a987_11eb_a04e_02420a39adb5row4_col4\" class=\"data row4 col4\" >3</td>\n",
       "                        <td id=\"T_1ce9c9a8_a987_11eb_a04e_02420a39adb5row4_col5\" class=\"data row4 col5\" >7</td>\n",
       "            </tr>\n",
       "            <tr>\n",
       "                        <th id=\"T_1ce9c9a8_a987_11eb_a04e_02420a39adb5level0_row5\" class=\"row_heading level0 row5\" >1</th>\n",
       "                        <td id=\"T_1ce9c9a8_a987_11eb_a04e_02420a39adb5row5_col0\" class=\"data row5 col0\" >Запустить собственную службу доставки, что сократит срок доставки заказов</td>\n",
       "                        <td id=\"T_1ce9c9a8_a987_11eb_a04e_02420a39adb5row5_col1\" class=\"data row5 col1\" >2</td>\n",
       "                        <td id=\"T_1ce9c9a8_a987_11eb_a04e_02420a39adb5row5_col2\" class=\"data row5 col2\" >5</td>\n",
       "                        <td id=\"T_1ce9c9a8_a987_11eb_a04e_02420a39adb5row5_col3\" class=\"data row5 col3\" >4</td>\n",
       "                        <td id=\"T_1ce9c9a8_a987_11eb_a04e_02420a39adb5row5_col4\" class=\"data row5 col4\" >10</td>\n",
       "                        <td id=\"T_1ce9c9a8_a987_11eb_a04e_02420a39adb5row5_col5\" class=\"data row5 col5\" >2</td>\n",
       "            </tr>\n",
       "            <tr>\n",
       "                        <th id=\"T_1ce9c9a8_a987_11eb_a04e_02420a39adb5level0_row6\" class=\"row_heading level0 row6\" >5</th>\n",
       "                        <td id=\"T_1ce9c9a8_a987_11eb_a04e_02420a39adb5row6_col0\" class=\"data row6 col0\" >Добавить страницу отзывов клиентов о магазине, что позволит увеличить количество заказов</td>\n",
       "                        <td id=\"T_1ce9c9a8_a987_11eb_a04e_02420a39adb5row6_col1\" class=\"data row6 col1\" >3</td>\n",
       "                        <td id=\"T_1ce9c9a8_a987_11eb_a04e_02420a39adb5row6_col2\" class=\"data row6 col2\" >2</td>\n",
       "                        <td id=\"T_1ce9c9a8_a987_11eb_a04e_02420a39adb5row6_col3\" class=\"data row6 col3\" >2</td>\n",
       "                        <td id=\"T_1ce9c9a8_a987_11eb_a04e_02420a39adb5row6_col4\" class=\"data row6 col4\" >3</td>\n",
       "                        <td id=\"T_1ce9c9a8_a987_11eb_a04e_02420a39adb5row6_col5\" class=\"data row6 col5\" >1.33333</td>\n",
       "            </tr>\n",
       "            <tr>\n",
       "                        <th id=\"T_1ce9c9a8_a987_11eb_a04e_02420a39adb5level0_row7\" class=\"row_heading level0 row7\" >3</th>\n",
       "                        <td id=\"T_1ce9c9a8_a987_11eb_a04e_02420a39adb5row7_col0\" class=\"data row7 col0\" >Изменить структура категорий, что увеличит конверсию, т.к. пользователи быстрее найдут нужный товар</td>\n",
       "                        <td id=\"T_1ce9c9a8_a987_11eb_a04e_02420a39adb5row7_col1\" class=\"data row7 col1\" >8</td>\n",
       "                        <td id=\"T_1ce9c9a8_a987_11eb_a04e_02420a39adb5row7_col2\" class=\"data row7 col2\" >3</td>\n",
       "                        <td id=\"T_1ce9c9a8_a987_11eb_a04e_02420a39adb5row7_col3\" class=\"data row7 col3\" >3</td>\n",
       "                        <td id=\"T_1ce9c9a8_a987_11eb_a04e_02420a39adb5row7_col4\" class=\"data row7 col4\" >8</td>\n",
       "                        <td id=\"T_1ce9c9a8_a987_11eb_a04e_02420a39adb5row7_col5\" class=\"data row7 col5\" >1.125</td>\n",
       "            </tr>\n",
       "            <tr>\n",
       "                        <th id=\"T_1ce9c9a8_a987_11eb_a04e_02420a39adb5level0_row8\" class=\"row_heading level0 row8\" >4</th>\n",
       "                        <td id=\"T_1ce9c9a8_a987_11eb_a04e_02420a39adb5row8_col0\" class=\"data row8 col0\" >Изменить цвет фона главной страницы, чтобы увеличить вовлеченность пользователей</td>\n",
       "                        <td id=\"T_1ce9c9a8_a987_11eb_a04e_02420a39adb5row8_col1\" class=\"data row8 col1\" >3</td>\n",
       "                        <td id=\"T_1ce9c9a8_a987_11eb_a04e_02420a39adb5row8_col2\" class=\"data row8 col2\" >1</td>\n",
       "                        <td id=\"T_1ce9c9a8_a987_11eb_a04e_02420a39adb5row8_col3\" class=\"data row8 col3\" >1</td>\n",
       "                        <td id=\"T_1ce9c9a8_a987_11eb_a04e_02420a39adb5row8_col4\" class=\"data row8 col4\" >1</td>\n",
       "                        <td id=\"T_1ce9c9a8_a987_11eb_a04e_02420a39adb5row8_col5\" class=\"data row8 col5\" >1</td>\n",
       "            </tr>\n",
       "    </tbody></table>"
      ],
      "text/plain": [
       "<pandas.io.formats.style.Styler at 0x7fd6a9190990>"
      ]
     },
     "metadata": {},
     "output_type": "display_data"
    }
   ],
   "source": [
    "hypothesis['ICE']=hypothesis['Impact']*hypothesis['Confidence']/hypothesis['Efforts']\n",
    "\n",
    "display(hypothesis.sort_values(by='ICE', ascending=False)\\\n",
    "        .style.background_gradient('Blues', subset=['ICE'])\\\n",
    "        .set_properties(subset=['Hypothesis'], **{'text-align':'left'}))"
   ]
  },
  {
   "cell_type": "markdown",
   "metadata": {},
   "source": [
    "по фреймворку ICE самые приоритетные гипотезы: 9, 1 и 8 \n",
    "- о предоставлении скидок на день рождения;\n",
    "- о добавлении 2 новых каналов привлечения;\n",
    "- о создании подписки на основные страницы."
   ]
  },
  {
   "cell_type": "markdown",
   "metadata": {},
   "source": [
    "### RICE"
   ]
  },
  {
   "cell_type": "markdown",
   "metadata": {},
   "source": [
    "$$RICE = \\frac{Rearch * Impact * Confidence}{Efforts}$$"
   ]
  },
  {
   "cell_type": "code",
   "execution_count": 4,
   "metadata": {},
   "outputs": [
    {
     "data": {
      "text/html": [
       "<style  type=\"text/css\" >\n",
       "    #T_1cefa71a_a987_11eb_a04e_02420a39adb5row0_col0 {\n",
       "            text-align:  left;\n",
       "        }    #T_1cefa71a_a987_11eb_a04e_02420a39adb5row0_col6 {\n",
       "            background-color:  #08306b;\n",
       "            color:  #f1f1f1;\n",
       "        }    #T_1cefa71a_a987_11eb_a04e_02420a39adb5row1_col0 {\n",
       "            text-align:  left;\n",
       "        }    #T_1cefa71a_a987_11eb_a04e_02420a39adb5row1_col6 {\n",
       "            background-color:  #71b1d7;\n",
       "            color:  #000000;\n",
       "        }    #T_1cefa71a_a987_11eb_a04e_02420a39adb5row2_col0 {\n",
       "            text-align:  left;\n",
       "        }    #T_1cefa71a_a987_11eb_a04e_02420a39adb5row2_col6 {\n",
       "            background-color:  #aacfe5;\n",
       "            color:  #000000;\n",
       "        }    #T_1cefa71a_a987_11eb_a04e_02420a39adb5row3_col0 {\n",
       "            text-align:  left;\n",
       "        }    #T_1cefa71a_a987_11eb_a04e_02420a39adb5row3_col6 {\n",
       "            background-color:  #aacfe5;\n",
       "            color:  #000000;\n",
       "        }    #T_1cefa71a_a987_11eb_a04e_02420a39adb5row4_col0 {\n",
       "            text-align:  left;\n",
       "        }    #T_1cefa71a_a987_11eb_a04e_02420a39adb5row4_col6 {\n",
       "            background-color:  #dfecf7;\n",
       "            color:  #000000;\n",
       "        }    #T_1cefa71a_a987_11eb_a04e_02420a39adb5row5_col0 {\n",
       "            text-align:  left;\n",
       "        }    #T_1cefa71a_a987_11eb_a04e_02420a39adb5row5_col6 {\n",
       "            background-color:  #ecf4fb;\n",
       "            color:  #000000;\n",
       "        }    #T_1cefa71a_a987_11eb_a04e_02420a39adb5row6_col0 {\n",
       "            text-align:  left;\n",
       "        }    #T_1cefa71a_a987_11eb_a04e_02420a39adb5row6_col6 {\n",
       "            background-color:  #f5fafe;\n",
       "            color:  #000000;\n",
       "        }    #T_1cefa71a_a987_11eb_a04e_02420a39adb5row7_col0 {\n",
       "            text-align:  left;\n",
       "        }    #T_1cefa71a_a987_11eb_a04e_02420a39adb5row7_col6 {\n",
       "            background-color:  #f5fafe;\n",
       "            color:  #000000;\n",
       "        }    #T_1cefa71a_a987_11eb_a04e_02420a39adb5row8_col0 {\n",
       "            text-align:  left;\n",
       "        }    #T_1cefa71a_a987_11eb_a04e_02420a39adb5row8_col6 {\n",
       "            background-color:  #f7fbff;\n",
       "            color:  #000000;\n",
       "        }</style><table id=\"T_1cefa71a_a987_11eb_a04e_02420a39adb5\" ><thead>    <tr>        <th class=\"blank level0\" ></th>        <th class=\"col_heading level0 col0\" >Hypothesis</th>        <th class=\"col_heading level0 col1\" >Reach</th>        <th class=\"col_heading level0 col2\" >Impact</th>        <th class=\"col_heading level0 col3\" >Confidence</th>        <th class=\"col_heading level0 col4\" >Efforts</th>        <th class=\"col_heading level0 col5\" >ICE</th>        <th class=\"col_heading level0 col6\" >RICE</th>    </tr></thead><tbody>\n",
       "                <tr>\n",
       "                        <th id=\"T_1cefa71a_a987_11eb_a04e_02420a39adb5level0_row0\" class=\"row_heading level0 row0\" >7</th>\n",
       "                        <td id=\"T_1cefa71a_a987_11eb_a04e_02420a39adb5row0_col0\" class=\"data row0 col0\" >Добавить форму подписки на все основные страницы, чтобы собрать базу клиентов для email-рассылок</td>\n",
       "                        <td id=\"T_1cefa71a_a987_11eb_a04e_02420a39adb5row0_col1\" class=\"data row0 col1\" >10</td>\n",
       "                        <td id=\"T_1cefa71a_a987_11eb_a04e_02420a39adb5row0_col2\" class=\"data row0 col2\" >7</td>\n",
       "                        <td id=\"T_1cefa71a_a987_11eb_a04e_02420a39adb5row0_col3\" class=\"data row0 col3\" >8</td>\n",
       "                        <td id=\"T_1cefa71a_a987_11eb_a04e_02420a39adb5row0_col4\" class=\"data row0 col4\" >5</td>\n",
       "                        <td id=\"T_1cefa71a_a987_11eb_a04e_02420a39adb5row0_col5\" class=\"data row0 col5\" >11.2</td>\n",
       "                        <td id=\"T_1cefa71a_a987_11eb_a04e_02420a39adb5row0_col6\" class=\"data row0 col6\" >112</td>\n",
       "            </tr>\n",
       "            <tr>\n",
       "                        <th id=\"T_1cefa71a_a987_11eb_a04e_02420a39adb5level0_row1\" class=\"row_heading level0 row1\" >2</th>\n",
       "                        <td id=\"T_1cefa71a_a987_11eb_a04e_02420a39adb5row1_col0\" class=\"data row1 col0\" >Добавить блоки рекомендаций товаров на сайт интернет магазина, чтобы повысить конверсию и средний чек заказа</td>\n",
       "                        <td id=\"T_1cefa71a_a987_11eb_a04e_02420a39adb5row1_col1\" class=\"data row1 col1\" >8</td>\n",
       "                        <td id=\"T_1cefa71a_a987_11eb_a04e_02420a39adb5row1_col2\" class=\"data row1 col2\" >3</td>\n",
       "                        <td id=\"T_1cefa71a_a987_11eb_a04e_02420a39adb5row1_col3\" class=\"data row1 col3\" >7</td>\n",
       "                        <td id=\"T_1cefa71a_a987_11eb_a04e_02420a39adb5row1_col4\" class=\"data row1 col4\" >3</td>\n",
       "                        <td id=\"T_1cefa71a_a987_11eb_a04e_02420a39adb5row1_col5\" class=\"data row1 col5\" >7</td>\n",
       "                        <td id=\"T_1cefa71a_a987_11eb_a04e_02420a39adb5row1_col6\" class=\"data row1 col6\" >56</td>\n",
       "            </tr>\n",
       "            <tr>\n",
       "                        <th id=\"T_1cefa71a_a987_11eb_a04e_02420a39adb5level0_row2\" class=\"row_heading level0 row2\" >0</th>\n",
       "                        <td id=\"T_1cefa71a_a987_11eb_a04e_02420a39adb5row2_col0\" class=\"data row2 col0\" >Добавить два новых канала привлечения трафика, что позволит привлекать на 30% больше пользователей</td>\n",
       "                        <td id=\"T_1cefa71a_a987_11eb_a04e_02420a39adb5row2_col1\" class=\"data row2 col1\" >3</td>\n",
       "                        <td id=\"T_1cefa71a_a987_11eb_a04e_02420a39adb5row2_col2\" class=\"data row2 col2\" >10</td>\n",
       "                        <td id=\"T_1cefa71a_a987_11eb_a04e_02420a39adb5row2_col3\" class=\"data row2 col3\" >8</td>\n",
       "                        <td id=\"T_1cefa71a_a987_11eb_a04e_02420a39adb5row2_col4\" class=\"data row2 col4\" >6</td>\n",
       "                        <td id=\"T_1cefa71a_a987_11eb_a04e_02420a39adb5row2_col5\" class=\"data row2 col5\" >13.3333</td>\n",
       "                        <td id=\"T_1cefa71a_a987_11eb_a04e_02420a39adb5row2_col6\" class=\"data row2 col6\" >40</td>\n",
       "            </tr>\n",
       "            <tr>\n",
       "                        <th id=\"T_1cefa71a_a987_11eb_a04e_02420a39adb5level0_row3\" class=\"row_heading level0 row3\" >6</th>\n",
       "                        <td id=\"T_1cefa71a_a987_11eb_a04e_02420a39adb5row3_col0\" class=\"data row3 col0\" >Показать на главной странице баннеры с актуальными акциями и распродажами, чтобы увеличить конверсию</td>\n",
       "                        <td id=\"T_1cefa71a_a987_11eb_a04e_02420a39adb5row3_col1\" class=\"data row3 col1\" >5</td>\n",
       "                        <td id=\"T_1cefa71a_a987_11eb_a04e_02420a39adb5row3_col2\" class=\"data row3 col2\" >3</td>\n",
       "                        <td id=\"T_1cefa71a_a987_11eb_a04e_02420a39adb5row3_col3\" class=\"data row3 col3\" >8</td>\n",
       "                        <td id=\"T_1cefa71a_a987_11eb_a04e_02420a39adb5row3_col4\" class=\"data row3 col4\" >3</td>\n",
       "                        <td id=\"T_1cefa71a_a987_11eb_a04e_02420a39adb5row3_col5\" class=\"data row3 col5\" >8</td>\n",
       "                        <td id=\"T_1cefa71a_a987_11eb_a04e_02420a39adb5row3_col6\" class=\"data row3 col6\" >40</td>\n",
       "            </tr>\n",
       "            <tr>\n",
       "                        <th id=\"T_1cefa71a_a987_11eb_a04e_02420a39adb5level0_row4\" class=\"row_heading level0 row4\" >8</th>\n",
       "                        <td id=\"T_1cefa71a_a987_11eb_a04e_02420a39adb5row4_col0\" class=\"data row4 col0\" >Запустить акцию, дающую скидку на товар в день рождения</td>\n",
       "                        <td id=\"T_1cefa71a_a987_11eb_a04e_02420a39adb5row4_col1\" class=\"data row4 col1\" >1</td>\n",
       "                        <td id=\"T_1cefa71a_a987_11eb_a04e_02420a39adb5row4_col2\" class=\"data row4 col2\" >9</td>\n",
       "                        <td id=\"T_1cefa71a_a987_11eb_a04e_02420a39adb5row4_col3\" class=\"data row4 col3\" >9</td>\n",
       "                        <td id=\"T_1cefa71a_a987_11eb_a04e_02420a39adb5row4_col4\" class=\"data row4 col4\" >5</td>\n",
       "                        <td id=\"T_1cefa71a_a987_11eb_a04e_02420a39adb5row4_col5\" class=\"data row4 col5\" >16.2</td>\n",
       "                        <td id=\"T_1cefa71a_a987_11eb_a04e_02420a39adb5row4_col6\" class=\"data row4 col6\" >16</td>\n",
       "            </tr>\n",
       "            <tr>\n",
       "                        <th id=\"T_1cefa71a_a987_11eb_a04e_02420a39adb5level0_row5\" class=\"row_heading level0 row5\" >3</th>\n",
       "                        <td id=\"T_1cefa71a_a987_11eb_a04e_02420a39adb5row5_col0\" class=\"data row5 col0\" >Изменить структура категорий, что увеличит конверсию, т.к. пользователи быстрее найдут нужный товар</td>\n",
       "                        <td id=\"T_1cefa71a_a987_11eb_a04e_02420a39adb5row5_col1\" class=\"data row5 col1\" >8</td>\n",
       "                        <td id=\"T_1cefa71a_a987_11eb_a04e_02420a39adb5row5_col2\" class=\"data row5 col2\" >3</td>\n",
       "                        <td id=\"T_1cefa71a_a987_11eb_a04e_02420a39adb5row5_col3\" class=\"data row5 col3\" >3</td>\n",
       "                        <td id=\"T_1cefa71a_a987_11eb_a04e_02420a39adb5row5_col4\" class=\"data row5 col4\" >8</td>\n",
       "                        <td id=\"T_1cefa71a_a987_11eb_a04e_02420a39adb5row5_col5\" class=\"data row5 col5\" >1.125</td>\n",
       "                        <td id=\"T_1cefa71a_a987_11eb_a04e_02420a39adb5row5_col6\" class=\"data row5 col6\" >9</td>\n",
       "            </tr>\n",
       "            <tr>\n",
       "                        <th id=\"T_1cefa71a_a987_11eb_a04e_02420a39adb5level0_row6\" class=\"row_heading level0 row6\" >1</th>\n",
       "                        <td id=\"T_1cefa71a_a987_11eb_a04e_02420a39adb5row6_col0\" class=\"data row6 col0\" >Запустить собственную службу доставки, что сократит срок доставки заказов</td>\n",
       "                        <td id=\"T_1cefa71a_a987_11eb_a04e_02420a39adb5row6_col1\" class=\"data row6 col1\" >2</td>\n",
       "                        <td id=\"T_1cefa71a_a987_11eb_a04e_02420a39adb5row6_col2\" class=\"data row6 col2\" >5</td>\n",
       "                        <td id=\"T_1cefa71a_a987_11eb_a04e_02420a39adb5row6_col3\" class=\"data row6 col3\" >4</td>\n",
       "                        <td id=\"T_1cefa71a_a987_11eb_a04e_02420a39adb5row6_col4\" class=\"data row6 col4\" >10</td>\n",
       "                        <td id=\"T_1cefa71a_a987_11eb_a04e_02420a39adb5row6_col5\" class=\"data row6 col5\" >2</td>\n",
       "                        <td id=\"T_1cefa71a_a987_11eb_a04e_02420a39adb5row6_col6\" class=\"data row6 col6\" >4</td>\n",
       "            </tr>\n",
       "            <tr>\n",
       "                        <th id=\"T_1cefa71a_a987_11eb_a04e_02420a39adb5level0_row7\" class=\"row_heading level0 row7\" >5</th>\n",
       "                        <td id=\"T_1cefa71a_a987_11eb_a04e_02420a39adb5row7_col0\" class=\"data row7 col0\" >Добавить страницу отзывов клиентов о магазине, что позволит увеличить количество заказов</td>\n",
       "                        <td id=\"T_1cefa71a_a987_11eb_a04e_02420a39adb5row7_col1\" class=\"data row7 col1\" >3</td>\n",
       "                        <td id=\"T_1cefa71a_a987_11eb_a04e_02420a39adb5row7_col2\" class=\"data row7 col2\" >2</td>\n",
       "                        <td id=\"T_1cefa71a_a987_11eb_a04e_02420a39adb5row7_col3\" class=\"data row7 col3\" >2</td>\n",
       "                        <td id=\"T_1cefa71a_a987_11eb_a04e_02420a39adb5row7_col4\" class=\"data row7 col4\" >3</td>\n",
       "                        <td id=\"T_1cefa71a_a987_11eb_a04e_02420a39adb5row7_col5\" class=\"data row7 col5\" >1.33333</td>\n",
       "                        <td id=\"T_1cefa71a_a987_11eb_a04e_02420a39adb5row7_col6\" class=\"data row7 col6\" >4</td>\n",
       "            </tr>\n",
       "            <tr>\n",
       "                        <th id=\"T_1cefa71a_a987_11eb_a04e_02420a39adb5level0_row8\" class=\"row_heading level0 row8\" >4</th>\n",
       "                        <td id=\"T_1cefa71a_a987_11eb_a04e_02420a39adb5row8_col0\" class=\"data row8 col0\" >Изменить цвет фона главной страницы, чтобы увеличить вовлеченность пользователей</td>\n",
       "                        <td id=\"T_1cefa71a_a987_11eb_a04e_02420a39adb5row8_col1\" class=\"data row8 col1\" >3</td>\n",
       "                        <td id=\"T_1cefa71a_a987_11eb_a04e_02420a39adb5row8_col2\" class=\"data row8 col2\" >1</td>\n",
       "                        <td id=\"T_1cefa71a_a987_11eb_a04e_02420a39adb5row8_col3\" class=\"data row8 col3\" >1</td>\n",
       "                        <td id=\"T_1cefa71a_a987_11eb_a04e_02420a39adb5row8_col4\" class=\"data row8 col4\" >1</td>\n",
       "                        <td id=\"T_1cefa71a_a987_11eb_a04e_02420a39adb5row8_col5\" class=\"data row8 col5\" >1</td>\n",
       "                        <td id=\"T_1cefa71a_a987_11eb_a04e_02420a39adb5row8_col6\" class=\"data row8 col6\" >3</td>\n",
       "            </tr>\n",
       "    </tbody></table>"
      ],
      "text/plain": [
       "<pandas.io.formats.style.Styler at 0x7fd728c7cf90>"
      ]
     },
     "metadata": {},
     "output_type": "display_data"
    }
   ],
   "source": [
    "hypothesis['RICE']=(hypothesis['Reach']*hypothesis['Impact']*hypothesis['Confidence']/hypothesis['Efforts']).astype('int')\n",
    "\n",
    "display(hypothesis.sort_values(by='RICE', ascending=False)\n",
    "        .style.background_gradient('Blues', subset=['RICE'])\n",
    "        .set_properties(subset=['Hypothesis'], **{'text-align':'left'}))"
   ]
  },
  {
   "cell_type": "markdown",
   "metadata": {},
   "source": [
    "по фреймворку RICE самые приоритетные гипотезы 8, 3, 1 и 7\n",
    "- о создании подписки на основные страницы;\n",
    "- о создании блоков рекомендаций,\n",
    "- о добавлении 2 новых каналов привлечения;\n",
    "- о показе банера с актуальными акциями.\n",
    "\n",
    "в топ RICE не вошла 9 гипотеза о скидках на день рождения, т.к. она затронет единичных пользователей, ведь не все пользователи готовы сообщать дату своего рождения, и нет гарантий, что человек в день рождения вообще зайдет на сайт магазина."
   ]
  },
  {
   "cell_type": "markdown",
   "metadata": {},
   "source": [
    "различия в результатах связаны с влиянием фактора охвата, в ICE он не учитывался. это важный критерий, т.к. крупные интернет-магазины - представители массового рынка, поэтому будем использовать результаты по RICE.\n",
    "\n",
    "проверим гипотезу 8 (о создании подписки на основные страницы) т.к. она лидируем в RICE и вошла в топ в ICE."
   ]
  },
  {
   "cell_type": "markdown",
   "metadata": {},
   "source": [
    "## Анализ А/В теста"
   ]
  },
  {
   "cell_type": "code",
   "execution_count": 5,
   "metadata": {
    "scrolled": false
   },
   "outputs": [
    {
     "name": "stdout",
     "output_type": "stream",
     "text": [
      "---------------------|orders|---------------------\n"
     ]
    },
    {
     "data": {
      "text/html": [
       "<div>\n",
       "<style scoped>\n",
       "    .dataframe tbody tr th:only-of-type {\n",
       "        vertical-align: middle;\n",
       "    }\n",
       "\n",
       "    .dataframe tbody tr th {\n",
       "        vertical-align: top;\n",
       "    }\n",
       "\n",
       "    .dataframe thead th {\n",
       "        text-align: right;\n",
       "    }\n",
       "</style>\n",
       "<table border=\"1\" class=\"dataframe\">\n",
       "  <thead>\n",
       "    <tr style=\"text-align: right;\">\n",
       "      <th></th>\n",
       "      <th>transactionId</th>\n",
       "      <th>visitorId</th>\n",
       "      <th>date</th>\n",
       "      <th>revenue</th>\n",
       "      <th>group</th>\n",
       "    </tr>\n",
       "  </thead>\n",
       "  <tbody>\n",
       "    <tr>\n",
       "      <td>0</td>\n",
       "      <td>3667963787</td>\n",
       "      <td>3312258926</td>\n",
       "      <td>2019-08-15</td>\n",
       "      <td>1650</td>\n",
       "      <td>B</td>\n",
       "    </tr>\n",
       "    <tr>\n",
       "      <td>1</td>\n",
       "      <td>2804400009</td>\n",
       "      <td>3642806036</td>\n",
       "      <td>2019-08-15</td>\n",
       "      <td>730</td>\n",
       "      <td>B</td>\n",
       "    </tr>\n",
       "    <tr>\n",
       "      <td>2</td>\n",
       "      <td>2961555356</td>\n",
       "      <td>4069496402</td>\n",
       "      <td>2019-08-15</td>\n",
       "      <td>400</td>\n",
       "      <td>A</td>\n",
       "    </tr>\n",
       "    <tr>\n",
       "      <td>3</td>\n",
       "      <td>3797467345</td>\n",
       "      <td>1196621759</td>\n",
       "      <td>2019-08-15</td>\n",
       "      <td>9759</td>\n",
       "      <td>B</td>\n",
       "    </tr>\n",
       "    <tr>\n",
       "      <td>4</td>\n",
       "      <td>2282983706</td>\n",
       "      <td>2322279887</td>\n",
       "      <td>2019-08-15</td>\n",
       "      <td>2308</td>\n",
       "      <td>B</td>\n",
       "    </tr>\n",
       "  </tbody>\n",
       "</table>\n",
       "</div>"
      ],
      "text/plain": [
       "   transactionId   visitorId       date  revenue group\n",
       "0     3667963787  3312258926 2019-08-15     1650     B\n",
       "1     2804400009  3642806036 2019-08-15      730     B\n",
       "2     2961555356  4069496402 2019-08-15      400     A\n",
       "3     3797467345  1196621759 2019-08-15     9759     B\n",
       "4     2282983706  2322279887 2019-08-15     2308     B"
      ]
     },
     "metadata": {},
     "output_type": "display_data"
    },
    {
     "data": {
      "text/html": [
       "<style  type=\"text/css\" >\n",
       "</style><table id=\"T_1d1dd16c_a987_11eb_a04e_02420a39adb5\" ><thead>    <tr>        <th class=\"blank level0\" ></th>        <th class=\"col_heading level0 col0\" >transactionId</th>        <th class=\"col_heading level0 col1\" >visitorId</th>        <th class=\"col_heading level0 col2\" >revenue</th>    </tr></thead><tbody>\n",
       "                <tr>\n",
       "                        <th id=\"T_1d1dd16c_a987_11eb_a04e_02420a39adb5level0_row0\" class=\"row_heading level0 row0\" >count</th>\n",
       "                        <td id=\"T_1d1dd16c_a987_11eb_a04e_02420a39adb5row0_col0\" class=\"data row0 col0\" >1197</td>\n",
       "                        <td id=\"T_1d1dd16c_a987_11eb_a04e_02420a39adb5row0_col1\" class=\"data row0 col1\" >1197</td>\n",
       "                        <td id=\"T_1d1dd16c_a987_11eb_a04e_02420a39adb5row0_col2\" class=\"data row0 col2\" >1197</td>\n",
       "            </tr>\n",
       "            <tr>\n",
       "                        <th id=\"T_1d1dd16c_a987_11eb_a04e_02420a39adb5level0_row1\" class=\"row_heading level0 row1\" >mean</th>\n",
       "                        <td id=\"T_1d1dd16c_a987_11eb_a04e_02420a39adb5row1_col0\" class=\"data row1 col0\" >2155621386</td>\n",
       "                        <td id=\"T_1d1dd16c_a987_11eb_a04e_02420a39adb5row1_col1\" class=\"data row1 col1\" >2165960143</td>\n",
       "                        <td id=\"T_1d1dd16c_a987_11eb_a04e_02420a39adb5row1_col2\" class=\"data row1 col2\" >8348</td>\n",
       "            </tr>\n",
       "            <tr>\n",
       "                        <th id=\"T_1d1dd16c_a987_11eb_a04e_02420a39adb5level0_row2\" class=\"row_heading level0 row2\" >std</th>\n",
       "                        <td id=\"T_1d1dd16c_a987_11eb_a04e_02420a39adb5row2_col0\" class=\"data row2 col0\" >1229084905</td>\n",
       "                        <td id=\"T_1d1dd16c_a987_11eb_a04e_02420a39adb5row2_col1\" class=\"data row2 col1\" >1236014192</td>\n",
       "                        <td id=\"T_1d1dd16c_a987_11eb_a04e_02420a39adb5row2_col2\" class=\"data row2 col2\" >39191</td>\n",
       "            </tr>\n",
       "            <tr>\n",
       "                        <th id=\"T_1d1dd16c_a987_11eb_a04e_02420a39adb5level0_row3\" class=\"row_heading level0 row3\" >min</th>\n",
       "                        <td id=\"T_1d1dd16c_a987_11eb_a04e_02420a39adb5row3_col0\" class=\"data row3 col0\" >1062393</td>\n",
       "                        <td id=\"T_1d1dd16c_a987_11eb_a04e_02420a39adb5row3_col1\" class=\"data row3 col1\" >5114589</td>\n",
       "                        <td id=\"T_1d1dd16c_a987_11eb_a04e_02420a39adb5row3_col2\" class=\"data row3 col2\" >50</td>\n",
       "            </tr>\n",
       "            <tr>\n",
       "                        <th id=\"T_1d1dd16c_a987_11eb_a04e_02420a39adb5level0_row4\" class=\"row_heading level0 row4\" >25%</th>\n",
       "                        <td id=\"T_1d1dd16c_a987_11eb_a04e_02420a39adb5row4_col0\" class=\"data row4 col0\" >1166775572</td>\n",
       "                        <td id=\"T_1d1dd16c_a987_11eb_a04e_02420a39adb5row4_col1\" class=\"data row4 col1\" >1111826046</td>\n",
       "                        <td id=\"T_1d1dd16c_a987_11eb_a04e_02420a39adb5row4_col2\" class=\"data row4 col2\" >1220</td>\n",
       "            </tr>\n",
       "            <tr>\n",
       "                        <th id=\"T_1d1dd16c_a987_11eb_a04e_02420a39adb5level0_row5\" class=\"row_heading level0 row5\" >50%</th>\n",
       "                        <td id=\"T_1d1dd16c_a987_11eb_a04e_02420a39adb5row5_col0\" class=\"data row5 col0\" >2145193898</td>\n",
       "                        <td id=\"T_1d1dd16c_a987_11eb_a04e_02420a39adb5row5_col1\" class=\"data row5 col1\" >2217984702</td>\n",
       "                        <td id=\"T_1d1dd16c_a987_11eb_a04e_02420a39adb5row5_col2\" class=\"data row5 col2\" >2978</td>\n",
       "            </tr>\n",
       "            <tr>\n",
       "                        <th id=\"T_1d1dd16c_a987_11eb_a04e_02420a39adb5level0_row6\" class=\"row_heading level0 row6\" >75%</th>\n",
       "                        <td id=\"T_1d1dd16c_a987_11eb_a04e_02420a39adb5row6_col0\" class=\"data row6 col0\" >3237740112</td>\n",
       "                        <td id=\"T_1d1dd16c_a987_11eb_a04e_02420a39adb5row6_col1\" class=\"data row6 col1\" >3177606451</td>\n",
       "                        <td id=\"T_1d1dd16c_a987_11eb_a04e_02420a39adb5row6_col2\" class=\"data row6 col2\" >8290</td>\n",
       "            </tr>\n",
       "            <tr>\n",
       "                        <th id=\"T_1d1dd16c_a987_11eb_a04e_02420a39adb5level0_row7\" class=\"row_heading level0 row7\" >max</th>\n",
       "                        <td id=\"T_1d1dd16c_a987_11eb_a04e_02420a39adb5row7_col0\" class=\"data row7 col0\" >4293855558</td>\n",
       "                        <td id=\"T_1d1dd16c_a987_11eb_a04e_02420a39adb5row7_col1\" class=\"data row7 col1\" >4283872382</td>\n",
       "                        <td id=\"T_1d1dd16c_a987_11eb_a04e_02420a39adb5row7_col2\" class=\"data row7 col2\" >1294500</td>\n",
       "            </tr>\n",
       "    </tbody></table>"
      ],
      "text/plain": [
       "<pandas.io.formats.style.Styler at 0x7fd6a91905d0>"
      ]
     },
     "metadata": {},
     "output_type": "display_data"
    },
    {
     "data": {
      "text/html": [
       "<div>\n",
       "<style scoped>\n",
       "    .dataframe tbody tr th:only-of-type {\n",
       "        vertical-align: middle;\n",
       "    }\n",
       "\n",
       "    .dataframe tbody tr th {\n",
       "        vertical-align: top;\n",
       "    }\n",
       "\n",
       "    .dataframe thead th {\n",
       "        text-align: right;\n",
       "    }\n",
       "</style>\n",
       "<table border=\"1\" class=\"dataframe\">\n",
       "  <thead>\n",
       "    <tr style=\"text-align: right;\">\n",
       "      <th></th>\n",
       "      <th>transactionId</th>\n",
       "      <th>visitorId</th>\n",
       "      <th>date</th>\n",
       "      <th>revenue</th>\n",
       "      <th>group</th>\n",
       "    </tr>\n",
       "  </thead>\n",
       "  <tbody>\n",
       "    <tr>\n",
       "      <td>425</td>\n",
       "      <td>590470918</td>\n",
       "      <td>1920142716</td>\n",
       "      <td>2019-08-19</td>\n",
       "      <td>1294500</td>\n",
       "      <td>B</td>\n",
       "    </tr>\n",
       "    <tr>\n",
       "      <td>1196</td>\n",
       "      <td>3936777065</td>\n",
       "      <td>2108080724</td>\n",
       "      <td>2019-08-15</td>\n",
       "      <td>202740</td>\n",
       "      <td>B</td>\n",
       "    </tr>\n",
       "  </tbody>\n",
       "</table>\n",
       "</div>"
      ],
      "text/plain": [
       "      transactionId   visitorId       date  revenue group\n",
       "425       590470918  1920142716 2019-08-19  1294500     B\n",
       "1196     3936777065  2108080724 2019-08-15   202740     B"
      ]
     },
     "metadata": {},
     "output_type": "display_data"
    },
    {
     "name": "stdout",
     "output_type": "stream",
     "text": [
      "---------------------|visitors|---------------------\n"
     ]
    },
    {
     "data": {
      "text/html": [
       "<div>\n",
       "<style scoped>\n",
       "    .dataframe tbody tr th:only-of-type {\n",
       "        vertical-align: middle;\n",
       "    }\n",
       "\n",
       "    .dataframe tbody tr th {\n",
       "        vertical-align: top;\n",
       "    }\n",
       "\n",
       "    .dataframe thead th {\n",
       "        text-align: right;\n",
       "    }\n",
       "</style>\n",
       "<table border=\"1\" class=\"dataframe\">\n",
       "  <thead>\n",
       "    <tr style=\"text-align: right;\">\n",
       "      <th></th>\n",
       "      <th>date</th>\n",
       "      <th>group</th>\n",
       "      <th>visitors</th>\n",
       "    </tr>\n",
       "  </thead>\n",
       "  <tbody>\n",
       "    <tr>\n",
       "      <td>0</td>\n",
       "      <td>2019-08-01</td>\n",
       "      <td>A</td>\n",
       "      <td>719</td>\n",
       "    </tr>\n",
       "    <tr>\n",
       "      <td>1</td>\n",
       "      <td>2019-08-02</td>\n",
       "      <td>A</td>\n",
       "      <td>619</td>\n",
       "    </tr>\n",
       "    <tr>\n",
       "      <td>2</td>\n",
       "      <td>2019-08-03</td>\n",
       "      <td>A</td>\n",
       "      <td>507</td>\n",
       "    </tr>\n",
       "    <tr>\n",
       "      <td>3</td>\n",
       "      <td>2019-08-04</td>\n",
       "      <td>A</td>\n",
       "      <td>717</td>\n",
       "    </tr>\n",
       "    <tr>\n",
       "      <td>4</td>\n",
       "      <td>2019-08-05</td>\n",
       "      <td>A</td>\n",
       "      <td>756</td>\n",
       "    </tr>\n",
       "  </tbody>\n",
       "</table>\n",
       "</div>"
      ],
      "text/plain": [
       "        date group  visitors\n",
       "0 2019-08-01     A       719\n",
       "1 2019-08-02     A       619\n",
       "2 2019-08-03     A       507\n",
       "3 2019-08-04     A       717\n",
       "4 2019-08-05     A       756"
      ]
     },
     "metadata": {},
     "output_type": "display_data"
    },
    {
     "data": {
      "text/html": [
       "<div>\n",
       "<style scoped>\n",
       "    .dataframe tbody tr th:only-of-type {\n",
       "        vertical-align: middle;\n",
       "    }\n",
       "\n",
       "    .dataframe tbody tr th {\n",
       "        vertical-align: top;\n",
       "    }\n",
       "\n",
       "    .dataframe thead th {\n",
       "        text-align: right;\n",
       "    }\n",
       "</style>\n",
       "<table border=\"1\" class=\"dataframe\">\n",
       "  <thead>\n",
       "    <tr style=\"text-align: right;\">\n",
       "      <th></th>\n",
       "      <th>visitors</th>\n",
       "    </tr>\n",
       "  </thead>\n",
       "  <tbody>\n",
       "    <tr>\n",
       "      <td>count</td>\n",
       "      <td>62.000000</td>\n",
       "    </tr>\n",
       "    <tr>\n",
       "      <td>mean</td>\n",
       "      <td>607.290323</td>\n",
       "    </tr>\n",
       "    <tr>\n",
       "      <td>std</td>\n",
       "      <td>114.400560</td>\n",
       "    </tr>\n",
       "    <tr>\n",
       "      <td>min</td>\n",
       "      <td>361.000000</td>\n",
       "    </tr>\n",
       "    <tr>\n",
       "      <td>25%</td>\n",
       "      <td>534.000000</td>\n",
       "    </tr>\n",
       "    <tr>\n",
       "      <td>50%</td>\n",
       "      <td>624.500000</td>\n",
       "    </tr>\n",
       "    <tr>\n",
       "      <td>75%</td>\n",
       "      <td>710.500000</td>\n",
       "    </tr>\n",
       "    <tr>\n",
       "      <td>max</td>\n",
       "      <td>770.000000</td>\n",
       "    </tr>\n",
       "  </tbody>\n",
       "</table>\n",
       "</div>"
      ],
      "text/plain": [
       "         visitors\n",
       "count   62.000000\n",
       "mean   607.290323\n",
       "std    114.400560\n",
       "min    361.000000\n",
       "25%    534.000000\n",
       "50%    624.500000\n",
       "75%    710.500000\n",
       "max    770.000000"
      ]
     },
     "metadata": {},
     "output_type": "display_data"
    }
   ],
   "source": [
    "orders=pd.read_csv('https://code.s3.yandex.net/datasets/orders.csv')\n",
    "visitors=pd.read_csv('https://code.s3.yandex.net/datasets/visitors.csv') \n",
    "orders['date'] = orders['date'].map(lambda x: dt.datetime.strptime(x, '%Y-%m-%d'))\n",
    "visitors['date'] = visitors['date'].map(lambda x: dt.datetime.strptime(x, '%Y-%m-%d'))\n",
    "\n",
    "print('---------------------|orders|---------------------')\n",
    "display(orders.head())\n",
    "display(orders.describe().style.format({'transactionId':'{:.0f}', 'visitorId':'{:.0f}', 'revenue': '{:.0f}'}))\n",
    "display(orders[orders['revenue']>=100000])  # число заказов дороже 100 тыс.\n",
    "print('---------------------|visitors|---------------------')\n",
    "display(visitors.head())\n",
    "display(visitors.describe())"
   ]
  },
  {
   "cell_type": "markdown",
   "metadata": {},
   "source": [
    "в столбце с выручкой есть очень большие выбросы (202 740 руб. и 1 294 500 руб.), которые надо будет удалять. посмотрим как распределена выручка и проверим столбцы с выручкой и числом сессий на нормальность критерием Шапиро-Уилка."
   ]
  },
  {
   "cell_type": "code",
   "execution_count": 6,
   "metadata": {
    "scrolled": false
   },
   "outputs": [
    {
     "data": {
      "image/png": "[encoded data removed]",
      "text/plain": [
       "<Figure size 720x360 with 1 Axes>"
      ]
     },
     "metadata": {
      "needs_background": "light"
     },
     "output_type": "display_data"
    }
   ],
   "source": [
    "plt.figure(figsize=(10, 5))\n",
    "plt.hist(orders['revenue'], bins=700)\n",
    "plt.axis([0, 70000, 0, 500])\n",
    "plt.title('Распределение выручки')\n",
    "plt.xlabel('выручка')\n",
    "plt.ylabel('количество чеков')\n",
    "plt.show()"
   ]
  },
  {
   "cell_type": "markdown",
   "metadata": {},
   "source": [
    "заказы дороже 60 тыс. встречаются редко"
   ]
  },
  {
   "cell_type": "code",
   "execution_count": 7,
   "metadata": {},
   "outputs": [
    {
     "name": "stdout",
     "output_type": "stream",
     "text": [
      "Данные распределены ненормально\n",
      "Данные распределены ненормально\n"
     ]
    }
   ],
   "source": [
    "columns=[orders['revenue'], visitors['visitors']]\n",
    "alpha = 0.05\n",
    "\n",
    "for column in columns:\n",
    "    p_value=st.shapiro(column)[1]\n",
    "    if p_value < alpha:\n",
    "        print('Данные распределены ненормально')\n",
    "    else:\n",
    "        print('Данные распределены нормально')"
   ]
  },
  {
   "cell_type": "markdown",
   "metadata": {},
   "source": [
    "данные по выручке и числу сессий в день распределены ненормально, поэтому при проверке гипотез будем использовать тест Манна-Уитни."
   ]
  },
  {
   "cell_type": "markdown",
   "metadata": {},
   "source": [
    "### графики кумулятивных метрик"
   ]
  },
  {
   "cell_type": "markdown",
   "metadata": {},
   "source": [
    "создадим датасет с кумулятивными данными"
   ]
  },
  {
   "cell_type": "code",
   "execution_count": 8,
   "metadata": {
    "scrolled": false
   },
   "outputs": [
    {
     "data": {
      "text/html": [
       "<div>\n",
       "<style scoped>\n",
       "    .dataframe tbody tr th:only-of-type {\n",
       "        vertical-align: middle;\n",
       "    }\n",
       "\n",
       "    .dataframe tbody tr th {\n",
       "        vertical-align: top;\n",
       "    }\n",
       "\n",
       "    .dataframe thead th {\n",
       "        text-align: right;\n",
       "    }\n",
       "</style>\n",
       "<table border=\"1\" class=\"dataframe\">\n",
       "  <thead>\n",
       "    <tr style=\"text-align: right;\">\n",
       "      <th></th>\n",
       "      <th>date</th>\n",
       "      <th>group</th>\n",
       "      <th>orders</th>\n",
       "      <th>buyers</th>\n",
       "      <th>revenue</th>\n",
       "      <th>visitors</th>\n",
       "    </tr>\n",
       "  </thead>\n",
       "  <tbody>\n",
       "    <tr>\n",
       "      <td>0</td>\n",
       "      <td>2019-08-01</td>\n",
       "      <td>A</td>\n",
       "      <td>24</td>\n",
       "      <td>20</td>\n",
       "      <td>148579</td>\n",
       "      <td>719</td>\n",
       "    </tr>\n",
       "    <tr>\n",
       "      <td>1</td>\n",
       "      <td>2019-08-01</td>\n",
       "      <td>B</td>\n",
       "      <td>21</td>\n",
       "      <td>20</td>\n",
       "      <td>101217</td>\n",
       "      <td>713</td>\n",
       "    </tr>\n",
       "    <tr>\n",
       "      <td>2</td>\n",
       "      <td>2019-08-02</td>\n",
       "      <td>A</td>\n",
       "      <td>44</td>\n",
       "      <td>38</td>\n",
       "      <td>242401</td>\n",
       "      <td>1338</td>\n",
       "    </tr>\n",
       "    <tr>\n",
       "      <td>3</td>\n",
       "      <td>2019-08-02</td>\n",
       "      <td>B</td>\n",
       "      <td>45</td>\n",
       "      <td>43</td>\n",
       "      <td>266748</td>\n",
       "      <td>1294</td>\n",
       "    </tr>\n",
       "    <tr>\n",
       "      <td>4</td>\n",
       "      <td>2019-08-03</td>\n",
       "      <td>A</td>\n",
       "      <td>68</td>\n",
       "      <td>62</td>\n",
       "      <td>354874</td>\n",
       "      <td>1845</td>\n",
       "    </tr>\n",
       "  </tbody>\n",
       "</table>\n",
       "</div>"
      ],
      "text/plain": [
       "        date group  orders  buyers  revenue  visitors\n",
       "0 2019-08-01     A      24      20   148579       719\n",
       "1 2019-08-01     B      21      20   101217       713\n",
       "2 2019-08-02     A      44      38   242401      1338\n",
       "3 2019-08-02     B      45      43   266748      1294\n",
       "4 2019-08-03     A      68      62   354874      1845"
      ]
     },
     "metadata": {},
     "output_type": "display_data"
    }
   ],
   "source": [
    "# группы по уникальным датам\n",
    "data_grouped = orders[['date', 'group']].drop_duplicates()\n",
    "# накопление по заказам\n",
    "orders_cumm=data_grouped.apply(lambda x: orders[np.logical_and(orders['date']<=x['date'], orders['group']==x['group'])]\\\n",
    "                               .agg({'date':'max', \n",
    "                                     'group':'max', \n",
    "                                     'transactionId':pd.Series.nunique, \n",
    "                                     'visitorId': pd.Series.nunique, \n",
    "                                     'revenue':'sum'}), axis=1)\\\n",
    ".sort_values(by=['date', 'group']).reset_index(drop=True)\n",
    "#display(orders_cumm.head())\n",
    "# накопление по сессиям\n",
    "visitors_cumm=data_grouped.apply(lambda x: visitors[np.logical_and(visitors['date']<=x['date'], visitors['group']==x['group'])]\\\n",
    "                                 .agg({'date':'max', 'group':'max', 'visitors':'sum'}), axis=1)\\\n",
    ".sort_values(by=['date', 'group']).reset_index(drop=True)\n",
    "#display(visitors_cumm.head())\n",
    "\n",
    "# смерджим\n",
    "data_cumm=orders_cumm.merge(visitors_cumm, on=['date', 'group'], how='left')\n",
    "data_cumm=data_cumm.rename(columns={'transactionId':'orders', 'visitorId':'buyers'})\n",
    "#добавим столбец с конверсией\n",
    "#data_cumm['conversion']=data_cumm['buyers']/data_cumm['visitors']\n",
    "display(data_cumm.head())"
   ]
  },
  {
   "cell_type": "code",
   "execution_count": 9,
   "metadata": {
    "scrolled": false
   },
   "outputs": [],
   "source": [
    "# датасеты по группам\n",
    "a_cumm = data_cumm[data_cumm['group']=='A']\n",
    "b_cumm = data_cumm[data_cumm['group']=='B']\n",
    "\n",
    "datas=[a_cumm, b_cumm]\n",
    "for data in datas:\n",
    "    #кумулятивный средний чек по группам;\n",
    "    data['mean_revenue']=data['revenue']/data['orders']\n",
    "    #кумулятивная конверсия по группам;\n",
    "    data['conversion']=data['buyers']/data['visitors']\n",
    "\n",
    "#относительное изменение кумулятивного среднего чека группы B к группе A;\n",
    "ab_cumm = a_cumm.merge(b_cumm, on='date', how='left', suffixes=['_a', '_b'])\n",
    "ab_cumm['mean_revenue_b_to_a'] = ab_cumm['mean_revenue_b']/ab_cumm['mean_revenue_a']\n",
    "#относительное изменение кумулятивной конверсии группы B к группе A;\n",
    "ab_cumm['conversion_b_to_a'] = ab_cumm['conversion_b']/ab_cumm['conversion_a']"
   ]
  },
  {
   "cell_type": "code",
   "execution_count": 10,
   "metadata": {
    "scrolled": false
   },
   "outputs": [
    {
     "data": {
      "image/png": "[encoded data removed]",
      "text/plain": [
       "<Figure size 792x360 with 1 Axes>"
      ]
     },
     "metadata": {
      "needs_background": "light"
     },
     "output_type": "display_data"
    },
    {
     "data": {
      "image/png": "[encoded data removed]",
      "text/plain": [
       "<Figure size 792x360 with 1 Axes>"
      ]
     },
     "metadata": {
      "needs_background": "light"
     },
     "output_type": "display_data"
    },
    {
     "data": {
      "image/png": "[encoded data removed]",
      "text/plain": [
       "<Figure size 792x360 with 1 Axes>"
      ]
     },
     "metadata": {
      "needs_background": "light"
     },
     "output_type": "display_data"
    },
    {
     "data": {
      "image/png": "[encoded data removed]",
      "text/plain": [
       "<Figure size 792x360 with 1 Axes>"
      ]
     },
     "metadata": {
      "needs_background": "light"
     },
     "output_type": "display_data"
    },
    {
     "data": {
      "image/png": "[encoded data removed]",
      "text/plain": [
       "<Figure size 792x360 with 1 Axes>"
      ]
     },
     "metadata": {
      "needs_background": "light"
     },
     "output_type": "display_data"
    }
   ],
   "source": [
    "# функция литейного графика с 2 линиями\n",
    "def two_lines(A, B, y, title):\n",
    "    plt.figure(figsize=(11, 5))\n",
    "    sns.lineplot(data=A, x='date', y=y, label='A', linewidth=3)\n",
    "    sns.lineplot(data=B, x='date', y=y, label='B', linewidth=3)\n",
    "    plt.xticks(rotation=25)\n",
    "    plt.title(title)\n",
    "    plt.grid()\n",
    "    plt.legend(fontsize='large')\n",
    "    plt.show()\n",
    "    \n",
    "# функция литейного графика с 1 линией\n",
    "def line(df, col, title):\n",
    "    plt.figure(figsize=(11, 5))\n",
    "    sns.lineplot(data=df, x='date', y=col, linewidth=3)\n",
    "    plt.xticks(rotation=25)\n",
    "    plt.title(title)\n",
    "    plt.grid()\n",
    "    plt.show()\n",
    "\n",
    "two_lines(a_cumm, b_cumm, 'revenue', 'Кумулятивная выручка по группам')\n",
    "two_lines(a_cumm, b_cumm, 'mean_revenue', 'Кумулятивный средний чек по группам')\n",
    "line(ab_cumm, 'mean_revenue_b_to_a', 'Относительное изменение кумулятивного среднего чека группы B к группе A')\n",
    "two_lines(a_cumm, b_cumm, 'conversion', 'Кумулятивная конверсия по группам')\n",
    "line(ab_cumm, 'conversion_b_to_a', 'Относительное изменение кумулятивной конверсии группы B к группе A')"
   ]
  },
  {
   "cell_type": "markdown",
   "metadata": {},
   "source": [
    "- выручка растет равномерно на всем протяжении в обоих группах, что хорошо. но в группе В произошел всплеск выручки, причиной скорее всего стал экстримально дорогой заказ за 1,2 млн, т.к. график среднего чека также резко увеличился более чем на 3000.\n",
    "- средний чек становится равномерным во 2 половине теста, в 1 половине ведет себя нестабильно, скорее всего из-за появления дорогих заказов.\n",
    "- график изменения кумулятивного среднего чека сильно \"скачет\" 2, с 8 по 10 и 18 августа, там точно закрались выбросы.\n",
    "- конверсия группы В больше А на, хотя и снижается во 2 половине теста. конверсия группы А стабильно колеблется вокруг 2,7%.\n",
    "- конверсия группы В почти всегда больше, чем в группе А, только на 1 неделе она ниже. во второй половине разница конверсий снижается из-за снижение конверсии группы В."
   ]
  },
  {
   "cell_type": "markdown",
   "metadata": {},
   "source": [
    "построим точечный график выручки, чтобы определить границу выбросов. удалим строки с 2 самыми дорогими заказами для наглядности."
   ]
  },
  {
   "cell_type": "code",
   "execution_count": 11,
   "metadata": {
    "scrolled": false
   },
   "outputs": [
    {
     "data": {
      "image/png": "[encoded data removed]",
      "text/plain": [
       "<Figure size 720x360 with 1 Axes>"
      ]
     },
     "metadata": {
      "needs_background": "light"
     },
     "output_type": "display_data"
    }
   ],
   "source": [
    "orders_without_blowout=orders[orders['revenue']<200000]\n",
    "\n",
    "plt.figure(figsize=(10, 5))\n",
    "x_values=pd.Series(range(0,len(orders_without_blowout['revenue'])))\n",
    "plt.scatter(x_values, orders_without_blowout['revenue'])\n",
    "plt.title('Распределение выручки')\n",
    "plt.xlabel('выручка')\n",
    "plt.ylabel('количество чеков')\n",
    "plt.show()"
   ]
  },
  {
   "cell_type": "markdown",
   "metadata": {},
   "source": [
    "заказы дороже 50 тыс. встречаются редко. найдем 95 и 99 перцентиль, чтобы точнее определить границу выбросов."
   ]
  },
  {
   "cell_type": "code",
   "execution_count": 12,
   "metadata": {},
   "outputs": [
    {
     "name": "stdout",
     "output_type": "stream",
     "text": [
      "95 и 99 перцентили по заказам: [28000.  58233.2]\n"
     ]
    }
   ],
   "source": [
    "orders_percentile=np.percentile(orders['revenue'], [95, 99])\n",
    "print(f'95 и 99 перцентили по заказам: {orders_percentile}')"
   ]
  },
  {
   "cell_type": "markdown",
   "metadata": {},
   "source": [
    "удалим заказы дороже 50 тыс., таким образом уберем чуть больше 1%.\n",
    "\n",
    "построим точечный график количества заказов по пользователям"
   ]
  },
  {
   "cell_type": "code",
   "execution_count": 13,
   "metadata": {
    "scrolled": true
   },
   "outputs": [
    {
     "data": {
      "image/png": "[encoded data removed]",
      "text/plain": [
       "<Figure size 720x360 with 1 Axes>"
      ]
     },
     "metadata": {
      "needs_background": "light"
     },
     "output_type": "display_data"
    }
   ],
   "source": [
    "orders_per_buyer=orders.drop(['date', 'revenue', 'group'], axis=1)\\\n",
    ".groupby('visitorId').agg({'transactionId':pd.Series.nunique}).reset_index()\n",
    "orders_per_buyer\n",
    "plt.figure(figsize=(10, 5))\n",
    "x_values=pd.Series(range(0,len(orders_per_buyer['visitorId'])))\n",
    "plt.scatter(x_values, orders_per_buyer['transactionId'])\n",
    "plt.title('Распределение количества заказов по пользователям')\n",
    "plt.xlabel('заказы')\n",
    "plt.ylabel('количество')\n",
    "plt.show()"
   ]
  },
  {
   "cell_type": "code",
   "execution_count": 14,
   "metadata": {},
   "outputs": [
    {
     "name": "stdout",
     "output_type": "stream",
     "text": [
      "95 и 99 перцентили по визитам: [2. 4.]\n"
     ]
    }
   ],
   "source": [
    "buyers_percentile=np.percentile(orders_per_buyer['transactionId'], [95, 99])\n",
    "print(f'95 и 99 перцентили по визитам: {buyers_percentile}')"
   ]
  },
  {
   "cell_type": "markdown",
   "metadata": {},
   "source": [
    "пользователи с 4 заказами и более редкость. удалим их как аномалии."
   ]
  },
  {
   "cell_type": "markdown",
   "metadata": {},
   "source": [
    "### проверка гипотез"
   ]
  },
  {
   "cell_type": "markdown",
   "metadata": {},
   "source": [
    "проверим гипотезы методо Манна-Уитни т.к. данные распределены ненормально и имеют выбросы.\n",
    "\n",
    "- Н0: конверсии между группами по «сырым» данным равны\n",
    "- Н1: конверсии между группами по «сырым» данным отличаются"
   ]
  },
  {
   "cell_type": "code",
   "execution_count": 15,
   "metadata": {},
   "outputs": [
    {
     "name": "stdout",
     "output_type": "stream",
     "text": [
      "0.006\n",
      "0.149\n"
     ]
    }
   ],
   "source": [
    "orders_a=orders[orders['group']=='A'].groupby('visitorId', as_index=False).agg({'transactionId':pd.Series.nunique})\n",
    "orders_b=orders[orders['group']=='B'].groupby('visitorId', as_index=False).agg({'transactionId':pd.Series.nunique})\n",
    "\n",
    "orders_a.columns=['visitorId', 'order']\n",
    "orders_b.columns=['visitorId', 'order']\n",
    "# проставим посетителям, не сделавшим ни одного заказа 0 \n",
    "sample_a=pd.concat([orders_a['order'], \n",
    "                    pd.Series(0, index=np.arange(ab_cumm['visitors_a'].sum()-len(orders_a['order'])), name ='order')], axis=0)\n",
    "\n",
    "sample_b=pd.concat([orders_b['order'], \n",
    "                    pd.Series(0, index=np.arange(ab_cumm['visitors_a'].sum()-len(orders_b['order'])), name ='order')], axis=0)\n",
    "# проверим статистическую значимость \n",
    "print('{:0.3f}'.format(st.mannwhitneyu(sample_a, sample_b)[1]))\n",
    "# относительный прирост конверсии\n",
    "print('{:0.3f}'.format(sample_b.mean()/sample_a.mean()-1))"
   ]
  },
  {
   "cell_type": "markdown",
   "metadata": {},
   "source": [
    "p-знчение = 0.006, что значительно меньше 0.05, поэтому Н0 отвергаем, по \"сырым\" данным есть статистически значимые различия конверсий групп. относительный прирост конверсии в группе В = 14,9%\n",
    "\n",
    "проверим статистическую значимость различий среднего чека.\n",
    "\n",
    "- Н0: средний чек между группами по «сырым» данным равен\n",
    "- Н1: средний чек между группами по «сырым» данным отличается"
   ]
  },
  {
   "cell_type": "code",
   "execution_count": 16,
   "metadata": {},
   "outputs": [
    {
     "name": "stdout",
     "output_type": "stream",
     "text": [
      "0.365\n",
      "0.259\n"
     ]
    }
   ],
   "source": [
    "print('{:0.3f}'.format(st.mannwhitneyu(orders[orders['group']=='A']['revenue'], orders[orders['group']=='B']['revenue'])[1]))\n",
    "print('{:0.3f}'.format(orders[orders['group']=='B']['revenue'].mean()/orders[orders['group']=='A']['revenue'].mean()-1))"
   ]
  },
  {
   "cell_type": "markdown",
   "metadata": {},
   "source": [
    "p-знчение = 0.365, что больше 0.05, Н0 принимаем, по \"сырым\" данным нет статистически значимых различий среднего чека между группами. однако относительный выигрыш группы В = 25,9%, что довольно значительно, скорее всего вызвано аномально дорогими заказами в 1,2 млн и 200 тыс.\n",
    "\n",
    "удалим аномалии и посчитаем статистическую значимость для \"очищенных\" данных.\n",
    "\n",
    "- Н0: конверсии между группами по «очищенным» данным равны\n",
    "- Н1: конверсии между группами по «очищенным» данным отличаются"
   ]
  },
  {
   "cell_type": "code",
   "execution_count": 17,
   "metadata": {
    "scrolled": true
   },
   "outputs": [
    {
     "name": "stdout",
     "output_type": "stream",
     "text": [
      "всего пользователей с аномалиями: 26\n",
      "0.004\n",
      "0.170\n"
     ]
    }
   ],
   "source": [
    "# посетители c аномалиями\n",
    "big_orders=orders[orders['revenue']>50000]['visitorId']\n",
    "visitors_many_orders=pd.concat([orders_a[orders_a['order']>3]['visitorId'], \n",
    "                               orders_b[orders_b['order']>3]['visitorId']], axis=0)\n",
    "# смерджим датасеты\n",
    "clear_data=pd.concat([big_orders, visitors_many_orders], axis=0)\\\n",
    ".drop_duplicates()\\\n",
    ".sort_values()\n",
    "print(f'всего пользователей с аномалиями: {clear_data.shape[0]}')\n",
    "# данные по группам\n",
    "clear_data_a=pd.concat(\n",
    "    [orders_a[\n",
    "        np.logical_not(orders_a['visitorId'].isin(clear_data))]['order'], \n",
    "     pd.Series(0, index=np.arange(ab_cumm['visitors_a'].sum()-len(orders_a['order'])), \n",
    "                                                     name='orders')], axis=0)\n",
    "clear_data_b=pd.concat(\n",
    "    [orders_b[\n",
    "        np.logical_not(orders_b['visitorId'].isin(clear_data))]['order'], \n",
    "     pd.Series(0, index=np.arange(ab_cumm['visitors_a'].sum()-len(orders_b['order'])), \n",
    "                                                     name='orders')], axis=0)\n",
    "# проверим статистическую значимость \n",
    "print('{:0.3f}'.format(st.mannwhitneyu(clear_data_a, clear_data_b)[1]))\n",
    "# относительный прирост конверсии\n",
    "print('{:0.3f}'.format(clear_data_b.mean()/clear_data_a.mean()-1))"
   ]
  },
  {
   "cell_type": "markdown",
   "metadata": {},
   "source": [
    "p-знчение = 0.004, что меньше 0.05 и меньше p-значения \"сырых\" данных = 0.006, поэтому Н0 отвергаем, по \"очищенным\" данным есть статистически значимые различия конверсий групп. относительный прирост конверсии в группе В = 17%, в то время как по \"сырым\" данным прирост конверсии был 14,9%, что хорошо."
   ]
  },
  {
   "cell_type": "markdown",
   "metadata": {},
   "source": [
    "- Н0: средний чек между группами по «очищенным» данным равен\n",
    "- Н1: средний чек между группами по «очищенным» данным отличается"
   ]
  },
  {
   "cell_type": "code",
   "execution_count": 18,
   "metadata": {},
   "outputs": [
    {
     "name": "stdout",
     "output_type": "stream",
     "text": [
      "0.409\n",
      "0.024\n"
     ]
    }
   ],
   "source": [
    "# проверка статестической значимости\n",
    "print('{:0.3f}'.format(\n",
    "    st.mannwhitneyu(\n",
    "        orders[np.logical_and(orders['group']=='A', \n",
    "                              np.logical_not(orders['visitorId'].isin(clear_data)))\n",
    "                             ]['revenue'], \n",
    "               orders[np.logical_and(orders['group']=='B', \n",
    "                                     np.logical_not(orders['visitorId'].isin(clear_data)))\n",
    "                                    ]['revenue'])[1]))\n",
    "# отношение среднего чека\n",
    "print('{:0.3f}'.format(orders[np.logical_and(orders['group']=='B', \n",
    "                                             np.logical_not(orders['visitorId'].isin(clear_data)))]['revenue'].mean()/\n",
    "                       orders[np.logical_and(orders['group']=='A', \n",
    "                                             np.logical_not(orders['visitorId'].isin(clear_data)))]['revenue'].mean()-1))"
   ]
  },
  {
   "cell_type": "markdown",
   "metadata": {},
   "source": [
    "p-знчение = 0.409, значительно больше 0.05, Н0 принимаем, по \"очищенным\" данным нет статистически значимых различий среднего чека между группами. относительный прирост среднего чека для группы В относительно А снизился с 25.9% для \"сырых\" данных до 2.4% для \"очищенных\". это вызвано очисткой данных от аномально дорогих заказов."
   ]
  },
  {
   "cell_type": "markdown",
   "metadata": {},
   "source": [
    "## Вывод"
   ]
  },
  {
   "cell_type": "markdown",
   "metadata": {},
   "source": [
    "- как по \"сырым\", так и по \"очищенным\" данным есть статистически значимые различия конверсий групп. относительный прирост конверсии в группе В = 17%, что довольно большое значение.\n",
    "- по \"сырым\" и \"очищенным\" данным нет статистически значимых различий среднего чека между группами. \n",
    "- по графикам кумулятивной конверсии видно, что для группы B она стабильно больше, чем в группе А, хотя и имеет тенденцию к медленному снижению во 2 половине теста.\n",
    "- прирост среднего чека для группы В вызван всплесками аномально дорогих заказов, без них различийй в средних чеках нет.\n",
    "- тест можно признать успешным, группа В значительно лучше, чем А по конверсии, хотя средние чеки равны."
   ]
  }
 ],
 "metadata": {
  "kernelspec": {
   "display_name": "Python 3",
   "language": "python",
   "name": "python3"
  },
  "language_info": {
   "codemirror_mode": {
    "name": "ipython",
    "version": 3
   },
   "file_extension": ".py",
   "mimetype": "text/x-python",
   "name": "python",
   "nbconvert_exporter": "python",
   "pygments_lexer": "ipython3",
   "version": "3.8.5"
  },
  "toc": {
   "base_numbering": 1,
   "nav_menu": {},
   "number_sections": true,
   "sideBar": true,
   "skip_h1_title": true,
   "title_cell": "Table of Contents",
   "title_sidebar": "Contents",
   "toc_cell": false,
   "toc_position": {
    "height": "calc(100% - 180px)",
    "left": "10px",
    "top": "150px",
    "width": "178.188px"
   },
   "toc_section_display": true,
   "toc_window_display": false
  }
 },
 "nbformat": 4,
 "nbformat_minor": 2
}
